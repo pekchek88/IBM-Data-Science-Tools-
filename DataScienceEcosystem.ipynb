{
  "nbformat": 4,
  "nbformat_minor": 0,
  "metadata": {
    "colab": {
      "provenance": []
    },
    "kernelspec": {
      "name": "python3",
      "display_name": "Python 3"
    },
    "language_info": {
      "name": "python"
    }
  },
  "cells": [
    {
      "cell_type": "code",
      "execution_count": null,
      "metadata": {
        "id": "VQfd6sbmnQiX"
      },
      "outputs": [],
      "source": []
    },
    {
      "cell_type": "markdown",
      "source": [
        "# Data Science Tools and Ecosystem\n",
        "In this notebook, Data Science Tools and Ecosystem are summarized.\n",
        "\n",
        "**Objectives**\n",
        "* Popular Langauges in Data Science\n",
        "* Commonly Used Lanaguages in Data Science\n",
        "* Ways of evaluating Arithemetic Expression in Python\n",
        "\n"
      ],
      "metadata": {
        "id": "QND8giHlnROE"
      }
    },
    {
      "cell_type": "code",
      "source": [],
      "metadata": {
        "id": "p8_nFDl7oJzZ"
      },
      "execution_count": null,
      "outputs": []
    },
    {
      "cell_type": "markdown",
      "source": [
        "Some of the popular languages that Data Scientists use are:\n",
        "1. R\n",
        "2. Python\n",
        "3. SQL"
      ],
      "metadata": {
        "id": "llI22XrxoVgt"
      }
    },
    {
      "cell_type": "markdown",
      "source": [],
      "metadata": {
        "id": "4b9pxNU4tet7"
      }
    },
    {
      "cell_type": "code",
      "source": [],
      "metadata": {
        "id": "f_WxFYY3oZFu"
      },
      "execution_count": null,
      "outputs": []
    },
    {
      "cell_type": "markdown",
      "source": [
        "Some of the commonly used libraries used by Data Scientists include:\n",
        "1. Panda\n",
        "2. SciPY\n",
        "3. NumPy\n",
        "4. scikit-learn"
      ],
      "metadata": {
        "id": "teLjjIzbot-N"
      }
    },
    {
      "cell_type": "code",
      "source": [],
      "metadata": {
        "id": "GPhj-T1Go14s"
      },
      "execution_count": null,
      "outputs": []
    },
    {
      "cell_type": "markdown",
      "source": [
        "| Data Science Tools|\n",
        "|---|\n",
        "|RStudio|\n",
        "|Apache Spark|\n",
        "|TensorFlow|"
      ],
      "metadata": {
        "id": "LK3BVl4LpDOH"
      }
    },
    {
      "cell_type": "code",
      "source": [],
      "metadata": {
        "id": "nxwfYj6ppXOn"
      },
      "execution_count": 3,
      "outputs": []
    },
    {
      "cell_type": "markdown",
      "source": [
        "### Below are a few examples of evaluating arithmetic expressions in Python."
      ],
      "metadata": {
        "id": "tzA13g_dpkWE"
      }
    },
    {
      "cell_type": "code",
      "source": [],
      "metadata": {
        "id": "dMedqzJipwQR"
      },
      "execution_count": null,
      "outputs": []
    },
    {
      "cell_type": "markdown",
      "source": [
        "(3*4)+5"
      ],
      "metadata": {
        "id": "DzYvyYB6qMEo"
      }
    },
    {
      "cell_type": "code",
      "source": [
        "(3*4)+5\n",
        "#This a simple arithmetic expression to mutiply then add integers\n"
      ],
      "metadata": {
        "colab": {
          "base_uri": "https://localhost:8080/"
        },
        "id": "FOc2xJAwq8tY",
        "outputId": "61aadfbe-1148-4991-acaf-8bfc97442911"
      },
      "execution_count": 5,
      "outputs": [
        {
          "output_type": "execute_result",
          "data": {
            "text/plain": [
              "17"
            ]
          },
          "metadata": {},
          "execution_count": 5
        }
      ]
    },
    {
      "cell_type": "code",
      "source": [
        "200/60\n",
        "#This will convert 200 minutes to hours by diving by 60"
      ],
      "metadata": {
        "colab": {
          "base_uri": "https://localhost:8080/"
        },
        "id": "jhwKOwNPqVE4",
        "outputId": "fea4cd6b-5734-4332-87dd-cf6f6d266dae"
      },
      "execution_count": 7,
      "outputs": [
        {
          "output_type": "execute_result",
          "data": {
            "text/plain": [
              "3.3333333333333335"
            ]
          },
          "metadata": {},
          "execution_count": 7
        }
      ]
    },
    {
      "cell_type": "code",
      "source": [],
      "metadata": {
        "id": "QmvNpfvzqSTs"
      },
      "execution_count": null,
      "outputs": []
    },
    {
      "cell_type": "markdown",
      "source": [
        "##Author\n",
        "Paul"
      ],
      "metadata": {
        "id": "qQoBaf4XthWh"
      }
    },
    {
      "cell_type": "code",
      "source": [],
      "metadata": {
        "id": "8li8p1nMqS0_"
      },
      "execution_count": null,
      "outputs": []
    }
  ]
}